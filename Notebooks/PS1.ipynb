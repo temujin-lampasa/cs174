{
 "cells": [
  {
   "cell_type": "markdown",
   "metadata": {},
   "source": [
    "# Problem Set 1 CS174\n",
    "---\n",
    "The following problem set will focus on the lessons on Python and basic string manipulation. Answer the following guide questions by writing functions or code in cells that accomplish the requirements."
   ]
  },
  {
   "cell_type": "code",
   "execution_count": 1,
   "metadata": {},
   "outputs": [],
   "source": [
    "from string import punctuation\n",
    "import matplotlib.pyplot as plt\n",
    "import requests\n",
    "from bs4 import BeautifulSoup"
   ]
  },
  {
   "cell_type": "markdown",
   "metadata": {},
   "source": [
    "1. Write a function to check whether a string is a palindrome. (A palindrome is a string that reads the same forwards and backwards) **1 pt.**"
   ]
  },
  {
   "cell_type": "code",
   "execution_count": 2,
   "metadata": {},
   "outputs": [],
   "source": [
    "def is_palindrome(string):\n",
    "    string = [c for c in string.lower() if c.isalnum()]\n",
    "    for i in range(len(string)//2):\n",
    "        if string[i] != string[~i]:\n",
    "            return False\n",
    "    return True"
   ]
  },
  {
   "cell_type": "code",
   "execution_count": 3,
   "metadata": {},
   "outputs": [
    {
     "data": {
      "text/plain": [
       "True"
      ]
     },
     "execution_count": 3,
     "metadata": {},
     "output_type": "execute_result"
    }
   ],
   "source": [
    "is_palindrome(\"Was it a car or a cat I saw?\")"
   ]
  },
  {
   "cell_type": "code",
   "execution_count": 4,
   "metadata": {},
   "outputs": [
    {
     "data": {
      "text/plain": [
       "False"
      ]
     },
     "execution_count": 4,
     "metadata": {},
     "output_type": "execute_result"
    }
   ],
   "source": [
    "is_palindrome(\"something\")"
   ]
  },
  {
   "cell_type": "markdown",
   "metadata": {},
   "source": [
    "2. Write a function that checks whether a number is prime or not **1 pt.**"
   ]
  },
  {
   "cell_type": "code",
   "execution_count": 5,
   "metadata": {},
   "outputs": [],
   "source": [
    "def is_prime(n):\n",
    "    if n <= 1:\n",
    "        return False\n",
    "    for i in range(2, int(n**0.5)+1):\n",
    "        if n % i == 0:\n",
    "            return False\n",
    "    return True"
   ]
  },
  {
   "cell_type": "code",
   "execution_count": 6,
   "metadata": {},
   "outputs": [
    {
     "data": {
      "text/plain": [
       "True"
      ]
     },
     "execution_count": 6,
     "metadata": {},
     "output_type": "execute_result"
    }
   ],
   "source": [
    "is_prime(9941)"
   ]
  },
  {
   "cell_type": "code",
   "execution_count": 7,
   "metadata": {},
   "outputs": [
    {
     "data": {
      "text/plain": [
       "False"
      ]
     },
     "execution_count": 7,
     "metadata": {},
     "output_type": "execute_result"
    }
   ],
   "source": [
    "is_prime(42)"
   ]
  },
  {
   "cell_type": "markdown",
   "metadata": {},
   "source": [
    "3. Load `data/allstar.txt` and create a dictionary where the keys are the verses or chorus numbers, and the values are the chords for that part of the song. **4 pts.**\n",
    "`{ \"verse1\": \"Am, C, D, G, F, G, G, Bm\", \"chorus1\": \"C, Am, G, D, C, Am, G, D, C\"..}`"
   ]
  },
  {
   "cell_type": "code",
   "execution_count": 8,
   "metadata": {},
   "outputs": [],
   "source": [
    "file = \"data/allstar.txt\"\n",
    "\n",
    "with open(file, \"r+\") as f:\n",
    "    allstar_text = [line.strip() for line in f if line != \"\"]\n",
    "    allstar_text = [line for line in allstar_text if line != \"\"]\n",
    "\n",
    "section_slices = {\n",
    "    \"verse1\": slice(0, 25),\n",
    "    \"chorus1\": slice(25, 34),\n",
    "    \"verse2\": slice(34, 51),\n",
    "    \"chorus2\": slice(51, 68),\n",
    "    \"verse3\": slice(68, 93),\n",
    "    \"chorus3\": slice(93, 103),\n",
    "}\n",
    "\n",
    "section_chords = {}\n",
    "allstar_lyrics = \"\"\n",
    "for section, slice_ in section_slices.items():\n",
    "    section_text = allstar_text[slice_]\n",
    "    \n",
    "    # Get chords\n",
    "    chords = section_text[1::2]\n",
    "    chords = \", \".join([\", \".join(c.split()) for c in chords])\n",
    "    section_chords[section] = chords\n",
    "    \n",
    "    # Get lyrics\n",
    "    section_lyrics = \"\\n\".join(section_text[2::2])\n",
    "    allstar_lyrics += \"\\n\" + section_lyrics"
   ]
  },
  {
   "cell_type": "code",
   "execution_count": 9,
   "metadata": {},
   "outputs": [
    {
     "data": {
      "text/plain": [
       "{'verse1': 'G, D, Am, C, G, D, Am, C, G, D, Am, C, G, D, Am, C, G, D, Am, C, G, D, Am, C, G, D, Am, C, G, D, Am, C',\n",
       " 'chorus1': 'G, C, C#m, C, G, C, C#m, C, G, C, C#m, C, G, F, C',\n",
       " 'verse2': 'G, D, Am, C, G, D, Am, C, G, D, Am, C, G, D, Am, C',\n",
       " 'chorus2': 'G, C, C#m, C, G, C, C#m, C, G, C, C#m, C, G, F, C, G, C, C#m, C, G, C, C#m, C, G, C, C#m, C, G, F, C',\n",
       " 'verse3': 'G, D, Am, C, G, D, Am, C, G, D, Am, C, G, D, Am, C, G, D, Am, C, G, D, Am, C, G, D, Am, C, G, D, Am, C',\n",
       " 'chorus3': 'G, C, C#m, C, G, C, C#m, C, G, C, C#m, C, G, F, C'}"
      ]
     },
     "execution_count": 9,
     "metadata": {},
     "output_type": "execute_result"
    }
   ],
   "source": [
    "section_chords"
   ]
  },
  {
   "cell_type": "code",
   "execution_count": 10,
   "metadata": {},
   "outputs": [
    {
     "name": "stdout",
     "output_type": "stream",
     "text": [
      "\n",
      "Somebody once told me the world is gonna roll me\n",
      "I ain't the sharpest tool in the shed\n",
      "She was looking kinda dumb with her finger and her\n",
      "Thumb in the shape of an \"L\" on her forehead\n",
      "Well the years start coming and they don't stop coming\n",
      "Back to the rules and I hit the ground running\n",
      "Didn't make sense not to live for fun\n",
      "Your brain gets smart but your head gets dumb\n",
      "So much to do so much to see\n",
      "So what's wrong with taking the back streets\n",
      "You'll never know if you don't go\n",
      "You'll never shine if you don't glow\n",
      "Hey now you're an All Star get your game on, go play\n",
      "Hey now you're a Rock Star get the show on get paid\n",
      "And all that glitters is gold\n",
      "Only shooting stars break the mold\n",
      "It's a cool place and they say it gets colder\n",
      "You're bundled up now but wait 'til you get older\n",
      "But the media men beg to differ\n",
      "Judging by the hole in the satellite picture\n",
      "The ice we skate is getting pretty thin\n",
      "The waters getting warm so you might as well swim\n",
      "My world's on fire how about yours\n",
      "That's the way I like it and I never get bored\n",
      "Hey now you're an All Star get your game on, go play\n",
      "Hey now you're a Rock Star get the show on get paid\n",
      "And all that glitters is gold\n",
      "Only shooting stars break the mold\n",
      "Hey now you're an All Star get your game on, go play\n",
      "Hey now you're a Rock Star get the show on get paid\n",
      "And all that glitters is gold\n",
      "Only shooting stars break the mold\n",
      "Somebody once asked, could you spare some change for gas\n",
      "I need to get myself away from this place\n",
      "I said yep what a concept I could use a little fuel myself\n",
      "And we could all use a little change\n",
      "Well the years start coming and they don't stop coming\n",
      "Back to the rules and I hit the ground running\n",
      "Didn't make sense not to live for fun\n",
      "Your brain gets smart but your head gets dumb\n",
      "So much to do so much to see\n",
      "So what's wrong with taking the back streets\n",
      "You'll never know if you don't go\n",
      "You'll never shine if you don't glow\n",
      "Hey now you're an All Star get your game on, go play\n",
      "Hey now you're a Rock Star get the show on get paid\n",
      "And all that glitters is gold\n",
      "Only shooting stars break the mold\n"
     ]
    }
   ],
   "source": [
    "print(allstar_lyrics)"
   ]
  },
  {
   "cell_type": "markdown",
   "metadata": {},
   "source": [
    "4. Build a dictionary from `data/allstar.txt` where the keys are the unique words, and the values are the number of times the word appeared in the song. **4 pts.**"
   ]
  },
  {
   "cell_type": "code",
   "execution_count": 11,
   "metadata": {},
   "outputs": [
    {
     "name": "stdout",
     "output_type": "stream",
     "text": [
      "Pretty printing has been turned OFF\n"
     ]
    }
   ],
   "source": [
    "%pprint"
   ]
  },
  {
   "cell_type": "code",
   "execution_count": 12,
   "metadata": {},
   "outputs": [
    {
     "data": {
      "text/plain": [
       "{'somebody': 2, 'once': 2, 'told': 1, 'me': 2, 'the': 26, 'world': 1, 'is': 6, 'gonna': 1, 'roll': 1, 'i': 8, \"ain't\": 1, 'sharpest': 1, 'tool': 1, 'in': 3, 'shed': 1, 'she': 1, 'was': 1, 'looking': 1, 'kinda': 1, 'dumb': 3, 'with': 3, 'her': 3, 'finger': 1, 'and': 12, 'thumb': 1, 'shape': 1, 'of': 1, 'an': 5, '\"l\"': 1, 'on': 6, 'forehead': 1, 'well': 3, 'years': 2, 'start': 2, 'coming': 4, 'they': 3, \"don't\": 6, 'stop': 2, 'back': 4, 'to': 10, 'rules': 2, 'hit': 2, 'ground': 2, 'running': 2, \"didn't\": 2, 'make': 2, 'sense': 2, 'not': 2, 'live': 2, 'for': 3, 'fun': 2, 'your': 8, 'brain': 2, 'gets': 5, 'smart': 2, 'but': 4, 'head': 2, 'so': 7, 'much': 4, 'do': 2, 'see': 2, \"what's\": 2, 'wrong': 2, 'taking': 2, 'streets': 2, \"you'll\": 4, 'never': 5, 'know': 2, 'if': 4, 'you': 7, 'go': 6, 'shine': 2, 'glow': 2, 'hey': 8, 'now': 9, \"you're\": 9, 'all': 9, 'star': 8, 'get': 15, 'game': 4, 'on,': 4, 'play': 4, 'a': 8, 'rock': 4, 'show': 4, 'paid': 4, 'that': 4, 'glitters': 4, 'gold': 4, 'only': 4, 'shooting': 4, 'stars': 4, 'break': 4, 'mold': 4, \"it's\": 1, 'cool': 1, 'place': 2, 'say': 1, 'it': 2, 'colder': 1, 'bundled': 1, 'up': 1, 'wait': 1, \"'til\": 1, 'older': 1, 'media': 1, 'men': 1, 'beg': 1, 'differ': 1, 'judging': 1, 'by': 1, 'hole': 1, 'satellite': 1, 'picture': 1, 'ice': 1, 'we': 2, 'skate': 1, 'getting': 2, 'pretty': 1, 'thin': 1, 'waters': 1, 'warm': 1, 'might': 1, 'as': 1, 'swim': 1, 'my': 1, \"world's\": 1, 'fire': 1, 'how': 1, 'about': 1, 'yours': 1, \"that's\": 1, 'way': 1, 'like': 1, 'bored': 1, 'asked,': 1, 'could': 3, 'spare': 1, 'some': 1, 'change': 2, 'gas': 1, 'need': 1, 'myself': 2, 'away': 1, 'from': 1, 'this': 1, 'said': 1, 'yep': 1, 'what': 1, 'concept': 1, 'use': 2, 'little': 2, 'fuel': 1}"
      ]
     },
     "execution_count": 12,
     "metadata": {},
     "output_type": "execute_result"
    }
   ],
   "source": [
    "allstar_lyrics = allstar_lyrics.lower().split()\n",
    "word_freq = {}\n",
    "for word in allstar_lyrics:\n",
    "    word_freq[word] = allstar_lyrics.count(word)\n",
    "\n",
    "word_freq"
   ]
  },
  {
   "cell_type": "markdown",
   "metadata": {},
   "source": [
    "5. Load `Rick Astley - Never Gonna Give You Up Lyrics _ AZLyrics.com.html` and find out the ff (show the code): **10 pts.**"
   ]
  },
  {
   "cell_type": "code",
   "execution_count": 13,
   "metadata": {},
   "outputs": [],
   "source": [
    "from bs4 import BeautifulSoup\n",
    "file = 'data/Rick Astley - Never Gonna Give You Up Lyrics _ AZLyrics.com.html'\n",
    "soup = BeautifulSoup(open(file))"
   ]
  },
  {
   "cell_type": "code",
   "execution_count": 14,
   "metadata": {},
   "outputs": [
    {
     "name": "stdout",
     "output_type": "stream",
     "text": [
      "\n",
      "\n",
      "We're no strangers to love\n",
      "You know the rules and so do I\n",
      "A full commitment's what I'm thinking of\n",
      "You wouldn't get this from any other guy\n",
      "\n",
      "I just wanna tell you how I'm feeling\n",
      "Gotta make you understand\n",
      "\n",
      "Never gonna give you up\n",
      "Never gonna let you down\n",
      "Never gonna run around and desert you\n",
      "Never gonna make you cry\n",
      "Never gonna say goodbye\n",
      "Never gonna tell a lie and hurt you\n",
      "\n",
      "We've known each other for so long\n",
      "Your heart's been aching, but\n",
      "You're too shy to say it\n",
      "Inside, we both know what's been going on\n",
      "We know the game and we're gonna play it\n",
      "\n",
      "And if you ask me how I'm feeling\n",
      "Don't tell me you're too blind to see\n",
      "\n",
      "Never gonna give you up\n",
      "Never gonna let you down\n",
      "Never gonna run around and desert you\n",
      "Never gonna make you cry\n",
      "Never gonna say goodbye\n",
      "Never gonna tell a lie and hurt you\n",
      "\n",
      "Never gonna give you up\n",
      "Never gonna let you down\n",
      "Never gonna run around and desert you\n",
      "Never gonna make you cry\n",
      "Never gonna say goodbye\n",
      "Never gonna tell a lie and hurt you\n",
      "\n",
      "(Ooh, give you up)\n",
      "(Ooh, give you up)\n",
      "Never gonna give, never gonna give\n",
      "(Give you up)\n",
      "Never gonna give, never gonna give\n",
      "(Give you up)\n",
      "\n",
      "We've known each other for so long\n",
      "Your heart's been aching, but\n",
      "You're too shy to say it\n",
      "Inside, we both know what's been going on\n",
      "We know the game and we're gonna play it\n",
      "\n",
      "I just wanna tell you how I'm feeling\n",
      "Gotta make you understand\n",
      "\n",
      "Never gonna give you up\n",
      "Never gonna let you down\n",
      "Never gonna run around and desert you\n",
      "Never gonna make you cry\n",
      "Never gonna say goodbye\n",
      "Never gonna tell a lie and hurt you\n",
      "\n",
      "Never gonna give you up\n",
      "Never gonna let you down\n",
      "Never gonna run around and desert you\n",
      "Never gonna make you cry\n",
      "Never gonna say goodbye\n",
      "Never gonna tell a lie and hurt you\n",
      "\n",
      "Never gonna give you up\n",
      "Never gonna let you down\n",
      "Never gonna run around and desert you\n",
      "Never gonna make you cry\n",
      "Never gonna say goodbye\n",
      "Never gonna tell a lie and hurt you\n",
      "\n"
     ]
    }
   ],
   "source": [
    "parent_div = soup.find('div', {\"class\": 'col-xs-12 col-lg-8 text-center'})\n",
    "lyrics_div = parent_div.find('div', {\"class\": None})\n",
    "lyrics = lyrics_div.get_text()\n",
    "print(lyrics)"
   ]
  },
  {
   "cell_type": "markdown",
   "metadata": {},
   "source": [
    "- How many unique words are there?"
   ]
  },
  {
   "cell_type": "code",
   "execution_count": 15,
   "metadata": {},
   "outputs": [
    {
     "data": {
      "text/plain": [
       "78"
      ]
     },
     "execution_count": 15,
     "metadata": {},
     "output_type": "execute_result"
    }
   ],
   "source": [
    "words = [w.strip(\"(),\").lower() for w in lyrics.split()]\n",
    "len(set(words))"
   ]
  },
  {
   "cell_type": "markdown",
   "metadata": {},
   "source": [
    "- List what will Rick Astley never do?"
   ]
  },
  {
   "cell_type": "code",
   "execution_count": 16,
   "metadata": {},
   "outputs": [
    {
     "name": "stdout",
     "output_type": "stream",
     "text": [
      "Pretty printing has been turned ON\n"
     ]
    }
   ],
   "source": [
    "%pprint"
   ]
  },
  {
   "cell_type": "code",
   "execution_count": 17,
   "metadata": {},
   "outputs": [
    {
     "data": {
      "text/plain": [
       "['Never gonna give you up',\n",
       " 'Never gonna let you down',\n",
       " 'Never gonna run around and desert you',\n",
       " 'Never gonna make you cry',\n",
       " 'Never gonna say goodbye',\n",
       " 'Never gonna tell a lie and hurt you',\n",
       " 'Never gonna give you up',\n",
       " 'Never gonna let you down',\n",
       " 'Never gonna run around and desert you',\n",
       " 'Never gonna make you cry',\n",
       " 'Never gonna say goodbye',\n",
       " 'Never gonna tell a lie and hurt you',\n",
       " 'Never gonna give you up',\n",
       " 'Never gonna let you down',\n",
       " 'Never gonna run around and desert you',\n",
       " 'Never gonna make you cry',\n",
       " 'Never gonna say goodbye',\n",
       " 'Never gonna tell a lie and hurt you',\n",
       " 'Never gonna give, never gonna give',\n",
       " 'Never gonna give, never gonna give',\n",
       " 'Never gonna give you up',\n",
       " 'Never gonna let you down',\n",
       " 'Never gonna run around and desert you',\n",
       " 'Never gonna make you cry',\n",
       " 'Never gonna say goodbye',\n",
       " 'Never gonna tell a lie and hurt you',\n",
       " 'Never gonna give you up',\n",
       " 'Never gonna let you down',\n",
       " 'Never gonna run around and desert you',\n",
       " 'Never gonna make you cry',\n",
       " 'Never gonna say goodbye',\n",
       " 'Never gonna tell a lie and hurt you',\n",
       " 'Never gonna give you up',\n",
       " 'Never gonna let you down',\n",
       " 'Never gonna run around and desert you',\n",
       " 'Never gonna make you cry',\n",
       " 'Never gonna say goodbye',\n",
       " 'Never gonna tell a lie and hurt you']"
      ]
     },
     "execution_count": 17,
     "metadata": {},
     "output_type": "execute_result"
    }
   ],
   "source": [
    "[line for line in lyrics.split(\"\\n\") if line.startswith(\"Never gonna\")]"
   ]
  },
  {
   "cell_type": "code",
   "execution_count": 18,
   "metadata": {},
   "outputs": [
    {
     "name": "stdout",
     "output_type": "stream",
     "text": [
      "Pretty printing has been turned OFF\n"
     ]
    }
   ],
   "source": [
    "%pprint"
   ]
  },
  {
   "cell_type": "markdown",
   "metadata": {},
   "source": [
    "- Write a function that lists all the unique words and counts the num of occurences. Output the result as a dictionary similar to **Item 4.**"
   ]
  },
  {
   "cell_type": "code",
   "execution_count": 19,
   "metadata": {},
   "outputs": [],
   "source": [
    "def get_word_frequencies(text):\n",
    "    # Remove headers and strip punctuation\n",
    "    words = [w for w in text.split() if not (w.startswith(\"[\") or w.endswith(\"]\"))]\n",
    "    words = [w.strip(punctuation).lower() for w in words]\n",
    "    word_freq = {}\n",
    "    for word in words:\n",
    "        word_freq[word] = words.count(word)\n",
    "    return word_freq"
   ]
  },
  {
   "cell_type": "code",
   "execution_count": 20,
   "metadata": {},
   "outputs": [
    {
     "data": {
      "text/plain": [
       "{\"we're\": 3, 'no': 1, 'strangers': 1, 'to': 4, 'love': 1, 'you': 41, 'know': 5, 'the': 3, 'rules': 1, 'and': 16, 'so': 3, 'do': 1, 'i': 3, 'a': 7, 'full': 1, \"commitment's\": 1, 'what': 1, \"i'm\": 4, 'thinking': 1, 'of': 1, \"wouldn't\": 1, 'get': 1, 'this': 1, 'from': 1, 'any': 1, 'other': 3, 'guy': 1, 'just': 2, 'wanna': 2, 'tell': 9, 'how': 3, 'feeling': 3, 'gotta': 2, 'make': 8, 'understand': 2, 'never': 40, 'gonna': 42, 'give': 14, 'up': 10, 'let': 6, 'down': 6, 'run': 6, 'around': 6, 'desert': 6, 'cry': 6, 'say': 8, 'goodbye': 6, 'lie': 6, 'hurt': 6, \"we've\": 2, 'known': 2, 'each': 2, 'for': 2, 'long': 2, 'your': 2, \"heart's\": 2, 'been': 4, 'aching': 2, 'but': 2, \"you're\": 3, 'too': 3, 'shy': 2, 'it': 4, 'inside': 2, 'we': 4, 'both': 2, \"what's\": 2, 'going': 2, 'on': 2, 'game': 2, 'play': 2, 'if': 1, 'ask': 1, 'me': 2, \"don't\": 1, 'blind': 1, 'see': 1, 'ooh': 2}"
      ]
     },
     "execution_count": 20,
     "metadata": {},
     "output_type": "execute_result"
    }
   ],
   "source": [
    "get_word_frequencies(lyrics)"
   ]
  },
  {
   "cell_type": "markdown",
   "metadata": {},
   "source": [
    "- Use the dictionary from above to create a word count histogram."
   ]
  },
  {
   "cell_type": "code",
   "execution_count": 21,
   "metadata": {},
   "outputs": [
    {
     "data": {
      "image/png": "[encoded data removed]",
      "text/plain": [
       "<Figure size 576x432 with 1 Axes>"
      ]
     },
     "metadata": {
      "needs_background": "light"
     },
     "output_type": "display_data"
    }
   ],
   "source": [
    "%matplotlib inline\n",
    "import matplotlib.pyplot as plt\n",
    "\n",
    "rick_astley_word_freq = get_word_frequencies(lyrics)\n",
    "fig, ax = plt.subplots(figsize=(8, 6))\n",
    "plt.hist(rick_astley_word_freq.values(), bins=30)\n",
    "plt.title(\"Word Frequency\")\n",
    "plt.tight_layout()\n",
    "plt.show()"
   ]
  },
  {
   "cell_type": "markdown",
   "metadata": {},
   "source": [
    "### Bonus:\n",
    "Compare any non-English song (as long as lyrics are Romanized ) and a contemporary one in English, and create word frequency histograms of both. Compare and discuss any interesting findings or insights. **5 pts.**"
   ]
  },
  {
   "cell_type": "markdown",
   "metadata": {},
   "source": [
    "Deadline **Feb 25 11:59PM**. Submission link to be posted in Moodle. \n",
    "Submit the .ipynb file only with name <SURNAME>_<ID NUMBER>.ipynb. \n",
    "    \n",
    "Sample: **\"BAUTISTA_110464.ipynb\"**"
   ]
  },
  {
   "cell_type": "code",
   "execution_count": 22,
   "metadata": {},
   "outputs": [
    {
     "name": "stdout",
     "output_type": "stream",
     "text": [
      "\n",
      "\n",
      "[INTRO]\n",
      "Shizumu you ni tokete yuku you ni\n",
      "Futaridake no sora ga hirogaru yoru ni\n",
      "\n",
      "[VERSE]\n",
      "Sayonara dakedatta\n",
      "Sono hitokoto de subete ga wakatta\n",
      "Higa shizumi dashita sora to kimi no sugata\n",
      "FENSUgoshi ni kasanatte ita\n",
      "\n",
      "Hajimeta atta hi kara\n",
      "Boku no kokoro no subete wo ubatta\n",
      "Doko ka hakanai kuuki wo matou kimi wa\n",
      "Sabishii me wo shiteta nda\n",
      "\n",
      "[PRE-Chorus]\n",
      "Itsu datte CHIKKUTAKKU to\n",
      "Naru sekai de nando datte sa\n",
      "Fureru kakaronai kotoba urusai koe ni\n",
      "Namida ga kobore sou demo\n",
      "Arikitarina yorokobi kitto futarinara mitsuke rareru\n",
      "\n",
      "[Chorus]\n",
      "Sawagashii hibi ni waraenai kimi ni\n",
      "Omoitsuku kagiri mabushii asu wo\n",
      "Akenai yoru ni ochite yuku mae ni\n",
      "Boku no te wo tsukan de hora\n",
      "Wasurete shimaitakute tokikometa hibi mo\n",
      "Dakishimeta nukumori de tokasukara\n",
      "Kowakunai yo itsuka higanoboru made\n",
      "Futari de iyou\n",
      "\n",
      "[VERSE]\n",
      "Kimi ni shika mienai\n",
      "Nanika wo mitsumeru kimi ga kiraida\n",
      "Mitorete iru ka no youna koi suru youna\n",
      "Sonna kao ga kiraida\n",
      "\n",
      "Shinjite itaikеdo shinji renai koto\n",
      "Sonna no dou shitatte kitto\n",
      "Korekara dattе ikutsu mo atte\n",
      "Sono tanbi okotte naite iku no\n",
      "Soredemo kitto itsuka wa kitto okura wa kitto\n",
      "Wakari aerusa shinjiteru yo\n",
      "\n",
      "[BRIDGE]\n",
      "Mou iya datte tsukareta n datte\n",
      "Gamushara ni sashinobeta boku no te wo furiharau kimi\n",
      "Hontou wa boku mo iitai nda\n",
      "\n",
      "[PRE-Chorus]\n",
      "Hora mata CHIKKUTAKKU to\n",
      "Naru sekai de nando datte sa\n",
      "Kimi no tame ni yooi shita kotoba dore mo todokanai\n",
      "Owari ni shitai da nante sa\n",
      "Tsura rete kotoba ni shita toki\n",
      "Kimi wa hajimete waratta\n",
      "\n",
      "[Chorus]\n",
      "Sawagashii hibi ni waraenaku natte ita\n",
      "Boku no meniutsuru kimi wa kireida\n",
      "Akenai yoru ni koboruta namida mo\n",
      "Kimi no egao ni tokete iku\n",
      "\n",
      "[OUTRO]\n",
      "Kawaranai hibi ni naiteita boku o\n",
      "Kimi wa yasashiku owari e to sasou\n",
      "Shizumu you ni tokete yuku you ni\n",
      "Shimitsuita kiri ga hareru\n",
      "Wasurete shimaitakute tojikometa hibi ni\n",
      "Sashinobete kureta kimi no te o toru\n",
      "Suzushii kaze ga sora o oyogu you ni ima fukinukete iku\n",
      "Futari ima, yoru ni kakedashite iku\n",
      "\n",
      "\n"
     ]
    }
   ],
   "source": [
    "url = 'https://genius.com/Yoasobi-racing-into-the-night-yoru-no-kakeru-romanized-lyrics'\n",
    "jp_lyrics_page = requests.get(url)\n",
    "jp_soup = BeautifulSoup(jp_lyrics_page.text)\n",
    "jp_lyrics_div = jp_soup.find('div', {\"class\":'lyrics'})\n",
    "jp_lyrics = jp_lyrics_div.get_text()\n",
    "print(jp_lyrics)"
   ]
  },
  {
   "cell_type": "code",
   "execution_count": 23,
   "metadata": {},
   "outputs": [
    {
     "name": "stdout",
     "output_type": "stream",
     "text": [
      "\n",
      "\n",
      "[Intro]\n",
      "Hmm\n",
      "\n",
      "[Verse 1]\n",
      "You might think I'm crazy\n",
      "The way I've been cravin'\n",
      "If I put it quite plainly\n",
      "Just gimme them babies\n",
      "So what you doin' tonight?\n",
      "Better say, \"Doin' you right\" (Yeah)\n",
      "Watchin' movies, but we ain't seen a thing tonight (Yeah)\n",
      "\n",
      "[Pre-Chorus]\n",
      "I don't wanna keep you up (You up)\n",
      "But show me, can you keep it up? (It up)\n",
      "'Cause then I'll have to keep you up\n",
      "Shit, maybe I'ma keep you up, boy\n",
      "I've been drinkin' coffee (I've been drinkin' coffee; coffee)\n",
      "And I've been eatin' healthy (I've been eatin' healthy; healthy)\n",
      "You know I keep it squeaky, yeah (You know I keep it squeaky)\n",
      "Savin' up my energy (Yeah, yeah, savin' up my energy)\n",
      "\n",
      "[Chorus]\n",
      "Can you stay up all night?\n",
      "Fuck me 'til the daylight\n",
      "Thirty-four, thirty-five (Yeah, yeah, yeah, yeah)\n",
      "Can you stay up all night? (All night)\n",
      "Fuck mе 'til the daylight\n",
      "Thirty-four, thirty-five (Yeah, yеah, yeah, yeah)\n",
      "\n",
      "[Verse 2]\n",
      "You drink it just like water (Water)\n",
      "You say it tastes like candy\n",
      "So what you doin' tonight? (Tonight)\n",
      "Better say, \"Doin' you right\" (Alright)\n",
      "Watchin' movies, but we ain't seen a thing tonight (Yeah)\n",
      "\n",
      "[Pre-Chorus]\n",
      "I don't wanna keep you up (You up)\n",
      "But show me, can you keep it up? (It up)\n",
      "'Cause then I'll have to keep you up\n",
      "Shit, maybe I'ma keep you up, boy\n",
      "I've been drinkin' coffee (Said I've been drinkin' coffee; coffee)\n",
      "And I've been eatin' healthy (And I've been eatin' healthy; healthy)\n",
      "You know I keep it squeaky, yeah (Except this wine, babe)\n",
      "Savin' up my energy (Yeah, yeah, yeah)\n",
      "\n",
      "[Chorus]\n",
      "Can you stay up all night? (All night)\n",
      "Fuck me 'til the daylight (Daylight)\n",
      "Thirty-four, thirty-five (Thirty-five; yeah, yeah, yeah, yeah)\n",
      "Can you stay up all night? (Can you stay?)\n",
      "Fuck me 'til the daylight (Can you stay?)\n",
      "Thirty-four, thirty-five (Yeah, yeah, yeah, yeah)\n",
      "\n",
      "[Verse 3]\n",
      "Oh yeah, yeah\n",
      "Baby, you might need a seatbelt when I ride it\n",
      "I'ma leave it open like a door, come inside it\n",
      "Even though I'm wifey, you can hit it like a side chick\n",
      "Don't need no side dick, no\n",
      "Got the neighbors yellin' \"Earthquake!\" (Earthquake)\n",
      "4.5 when I make the bed shake\n",
      "Put it down heavy even though it's lightweight (It's lightweight, yeah, yeah, yeah, babe)\n",
      "Yeah, we started at midnight\n",
      "Go 'til the sunrise (Sunrise)\n",
      "Done at the same time (Yeah)\n",
      "But who's counting the time when we got it for life? (Got it for life)\n",
      "I know all your favorite spots (Favorite spots)\n",
      "We can take it from the top (From the top)\n",
      "You such a dream come true, true\n",
      "Make a bitch wanna hit snooze, ooh\n",
      "\n",
      "[Chorus]\n",
      "Can you stay up all night?\n",
      "Fuck me 'til the daylight (Yeah, yeah)\n",
      "Thirty-four, thirty-five (Yeah, yeah, yeah, yeah)\n",
      "(Thirty-four, thirty-five)\n",
      "Can you stay up all night? (Do you know what that means?)\n",
      "Fuck me 'til the daylight (Do you know what that means?)\n",
      "Thirty-four, thirty-five (Yeah, yeah, yeah, yeah)\n",
      "Yeah, yeah, yeah\n",
      "\n",
      "[Outro]\n",
      "Means I wanna \"69\" with you\n",
      "No shit\n",
      "Math class\n",
      "Never was good\n",
      "\n",
      "\n"
     ]
    }
   ],
   "source": [
    "url = 'https://genius.com/Ariana-grande-34-35-lyrics'\n",
    "en_lyrics_page = requests.get(url)\n",
    "en_soup = BeautifulSoup(en_lyrics_page.text)\n",
    "en_lyrics_div = en_soup.find('div', {\"class\":'lyrics'})\n",
    "en_lyrics = en_lyrics_div.get_text()\n",
    "print(en_lyrics)"
   ]
  },
  {
   "cell_type": "code",
   "execution_count": 24,
   "metadata": {},
   "outputs": [
    {
     "data": {
      "image/png": "[encoded data removed]",
      "text/plain": [
       "<Figure size 864x288 with 2 Axes>"
      ]
     },
     "metadata": {
      "needs_background": "light"
     },
     "output_type": "display_data"
    }
   ],
   "source": [
    "%matplotlib inline\n",
    "import matplotlib.pyplot as plt\n",
    "\n",
    "jp_word_freq = get_word_frequencies(jp_lyrics)\n",
    "en_word_freq = get_word_frequencies(en_lyrics)\n",
    "fig, ax = plt.subplots(1, 2, figsize=(12, 4))\n",
    "fig.suptitle(\"Word Frequency Histograms\")\n",
    "ax[0].hist(jp_word_freq.values(), bins=30)\n",
    "ax[0].set_title(\"YOASOBI - Yoru ni Kakeru\")\n",
    "ax[1].hist(en_word_freq.values(), bins=30)\n",
    "ax[1].set_title(\"Ariana Grande - 34+35\")\n",
    "plt.tight_layout()\n",
    "plt.show()"
   ]
  },
  {
   "cell_type": "markdown",
   "metadata": {},
   "source": [
    "Findings:\n",
    "\n",
    "The frequency distributions are heavily skewed right. Most words are mentioned only a couple of times with only a few words being mentioned at a very high frequency."
   ]
  }
 ],
 "metadata": {
  "kernelspec": {
   "display_name": "Python 3",
   "language": "python",
   "name": "python3"
  },
  "language_info": {
   "codemirror_mode": {
    "name": "ipython",
    "version": 3
   },
   "file_extension": ".py",
   "mimetype": "text/x-python",
   "name": "python",
   "nbconvert_exporter": "python",
   "pygments_lexer": "ipython3",
   "version": "3.8.6"
  }
 },
 "nbformat": 4,
 "nbformat_minor": 4
}
