{
 "cells": [
  {
   "cell_type": "markdown",
   "metadata": {},
   "source": [
    "# Problem Set 1 CS174\n",
    "---\n",
    "The following problem set will focus on the lessons on Python and basic string manipulation. Answer the following guide questions by writing functions or code in cells that accomplish the requirements."
   ]
  },
  {
   "cell_type": "code",
   "execution_count": 1,
   "metadata": {},
   "outputs": [],
   "source": [
    "import numpy as np\n",
    "import pandas as pd\n",
    "from bs4 import BeautifulSoup\n",
    "import matplotlib.pyplot as plt"
   ]
  },
  {
   "cell_type": "markdown",
   "metadata": {},
   "source": [
    "1. Write a function to check whether a string is a palindrome. (A palindrome is a string that reads the same forwards and backwards) **1 pt.**"
   ]
  },
  {
   "cell_type": "code",
   "execution_count": 2,
   "metadata": {},
   "outputs": [],
   "source": [
    "def is_palindrome(string):\n",
    "    string = string.replace(\" \", \"\").lower()\n",
    "    string = [c for c in string if c.isalnum()]\n",
    "    for i in range(len(string)//2):\n",
    "        if string[i] != string[~i]:\n",
    "            return False\n",
    "    return True"
   ]
  },
  {
   "cell_type": "code",
   "execution_count": 3,
   "metadata": {},
   "outputs": [
    {
     "data": {
      "text/plain": [
       "True"
      ]
     },
     "execution_count": 3,
     "metadata": {},
     "output_type": "execute_result"
    }
   ],
   "source": [
    "is_palindrome(\"Was it a car or a cat I saw?\")"
   ]
  },
  {
   "cell_type": "code",
   "execution_count": 4,
   "metadata": {},
   "outputs": [
    {
     "data": {
      "text/plain": [
       "False"
      ]
     },
     "execution_count": 4,
     "metadata": {},
     "output_type": "execute_result"
    }
   ],
   "source": [
    "is_palindrome(\"something\")"
   ]
  },
  {
   "cell_type": "markdown",
   "metadata": {},
   "source": [
    "2. Write a function that checks whether a number is prime or not **1 pt.**"
   ]
  },
  {
   "cell_type": "code",
   "execution_count": 5,
   "metadata": {},
   "outputs": [],
   "source": [
    "def is_prime(n):\n",
    "    if n <= 1:\n",
    "        return False\n",
    "    for i in range(2, int(np.sqrt(n))+1):\n",
    "        if n % i == 0:\n",
    "            return False\n",
    "    return True"
   ]
  },
  {
   "cell_type": "code",
   "execution_count": 6,
   "metadata": {},
   "outputs": [
    {
     "data": {
      "text/plain": [
       "True"
      ]
     },
     "execution_count": 6,
     "metadata": {},
     "output_type": "execute_result"
    }
   ],
   "source": [
    "is_prime(9941)"
   ]
  },
  {
   "cell_type": "code",
   "execution_count": 7,
   "metadata": {},
   "outputs": [
    {
     "data": {
      "text/plain": [
       "False"
      ]
     },
     "execution_count": 7,
     "metadata": {},
     "output_type": "execute_result"
    }
   ],
   "source": [
    "is_prime(42)"
   ]
  },
  {
   "cell_type": "markdown",
   "metadata": {},
   "source": [
    "3. Load `data/allstar.txt` and create a dictionary where the keys are the verses or chorus numbers, and the values are the chords for that part of the song. **4 pts.**\n",
    "`{ \"verse1\": \"Am, C, D, G, F, G, G, Bm\", \"chorus1\": \"C, Am, G, D, C, Am, G, D, C\"..}`"
   ]
  },
  {
   "cell_type": "code",
   "execution_count": 8,
   "metadata": {},
   "outputs": [],
   "source": [
    "file = \"data/allstar.txt\"\n",
    "\n",
    "with open(file, \"r+\") as f:\n",
    "    allstar_text = np.array([line.strip() for line in f if line != \"\"])\n",
    "    allstar_text = [line.strip() for line in allstar_text if line.strip() != \"\"]\n",
    "\n",
    "section_slices = {\n",
    "    \"verse1\": slice(0, 25),\n",
    "    \"chorus1\": slice(25, 34),\n",
    "    \"verse2\": slice(34, 51),\n",
    "    \"chorus2\": slice(51, 68),\n",
    "    \"verse3\": slice(68, 93),\n",
    "    \"chorus3\": slice(93, 103),\n",
    "}\n",
    "\n",
    "section_chords = {}\n",
    "section_lyrics = []\n",
    "for section, slice_ in section_slices.items():\n",
    "    section_text = allstar_text[slice_]\n",
    "    \n",
    "    # Get chords\n",
    "    chords = section_text[1::2]\n",
    "    chords = \", \".join([\", \".join(c.split()) for c in chords])\n",
    "    section_chords[section] = chords\n",
    "    \n",
    "    # Get lyrics\n",
    "    lyrics = section_text[2::2]\n",
    "    section_lyrics.append(lyrics)"
   ]
  },
  {
   "cell_type": "code",
   "execution_count": 9,
   "metadata": {},
   "outputs": [
    {
     "data": {
      "text/plain": [
       "{'verse1': 'G, D, Am, C, G, D, Am, C, G, D, Am, C, G, D, Am, C, G, D, Am, C, G, D, Am, C, G, D, Am, C, G, D, Am, C',\n",
       " 'chorus1': 'G, C, C#m, C, G, C, C#m, C, G, C, C#m, C, G, F, C',\n",
       " 'verse2': 'G, D, Am, C, G, D, Am, C, G, D, Am, C, G, D, Am, C',\n",
       " 'chorus2': 'G, C, C#m, C, G, C, C#m, C, G, C, C#m, C, G, F, C, G, C, C#m, C, G, C, C#m, C, G, C, C#m, C, G, F, C',\n",
       " 'verse3': 'G, D, Am, C, G, D, Am, C, G, D, Am, C, G, D, Am, C, G, D, Am, C, G, D, Am, C, G, D, Am, C, G, D, Am, C',\n",
       " 'chorus3': 'G, C, C#m, C, G, C, C#m, C, G, C, C#m, C, G, F, C'}"
      ]
     },
     "execution_count": 9,
     "metadata": {},
     "output_type": "execute_result"
    }
   ],
   "source": [
    "section_chords"
   ]
  },
  {
   "cell_type": "markdown",
   "metadata": {},
   "source": [
    "4. Build a dictionary from `data/allstar.txt` where the keys are the unique words, and the values are the number of times the word appeared in the song. **4 pts.**"
   ]
  },
  {
   "cell_type": "code",
   "execution_count": 10,
   "metadata": {},
   "outputs": [
    {
     "name": "stdout",
     "output_type": "stream",
     "text": [
      "Pretty printing has been turned OFF\n"
     ]
    }
   ],
   "source": [
    "%pprint"
   ]
  },
  {
   "cell_type": "code",
   "execution_count": 11,
   "metadata": {},
   "outputs": [
    {
     "data": {
      "text/plain": [
       "{'somebody': 2, 'once': 2, 'told': 1, 'me': 2, 'the': 26, 'world': 1, 'is': 6, 'gonna': 1, 'roll': 1, 'i': 8, \"ain't\": 1, 'sharpest': 1, 'tool': 1, 'in': 3, 'shed': 1, 'she': 1, 'was': 1, 'looking': 1, 'kinda': 1, 'dumb': 3, 'with': 3, 'her': 3, 'finger': 1, 'and': 12, 'thumb': 1, 'shape': 1, 'of': 1, 'an': 5, '\"l\"': 1, 'on': 6, 'forehead': 1, 'well': 3, 'years': 2, 'start': 2, 'coming': 4, 'they': 3, \"don't\": 6, 'stop': 2, 'back': 4, 'to': 10, 'rules': 2, 'hit': 2, 'ground': 2, 'running': 2, \"didn't\": 2, 'make': 2, 'sense': 2, 'not': 2, 'live': 2, 'for': 3, 'fun': 2, 'your': 8, 'brain': 2, 'gets': 5, 'smart': 2, 'but': 4, 'head': 2, 'so': 7, 'much': 4, 'do': 2, 'see': 2, \"what's\": 2, 'wrong': 2, 'taking': 2, 'streets': 2, \"you'll\": 4, 'never': 5, 'know': 2, 'if': 4, 'you': 7, 'go': 6, 'shine': 2, 'glow': 2, 'hey': 8, 'now': 9, \"you're\": 9, 'all': 9, 'star': 8, 'get': 15, 'game': 4, 'on,': 4, 'play': 4, 'a': 8, 'rock': 4, 'show': 4, 'paid': 4, 'that': 4, 'glitters': 4, 'gold': 4, 'only': 4, 'shooting': 4, 'stars': 4, 'break': 4, 'mold': 4, \"it's\": 1, 'cool': 1, 'place': 2, 'say': 1, 'it': 2, 'colder': 1, 'bundled': 1, 'up': 1, 'wait': 1, \"'til\": 1, 'older': 1, 'media': 1, 'men': 1, 'beg': 1, 'differ': 1, 'judging': 1, 'by': 1, 'hole': 1, 'satellite': 1, 'picture': 1, 'ice': 1, 'we': 2, 'skate': 1, 'getting': 2, 'pretty': 1, 'thin': 1, 'waters': 1, 'warm': 1, 'might': 1, 'as': 1, 'swim': 1, 'my': 1, \"world's\": 1, 'fire': 1, 'how': 1, 'about': 1, 'yours': 1, \"that's\": 1, 'way': 1, 'like': 1, 'bored': 1, 'asked,': 1, 'could': 3, 'spare': 1, 'some': 1, 'change': 2, 'gas': 1, 'need': 1, 'myself': 2, 'away': 1, 'from': 1, 'this': 1, 'said': 1, 'yep': 1, 'what': 1, 'concept': 1, 'use': 2, 'little': 2, 'fuel': 1}"
      ]
     },
     "execution_count": 11,
     "metadata": {},
     "output_type": "execute_result"
    }
   ],
   "source": [
    "allstar_words = \" \".join([line.lower() for section in section_lyrics for line in section]).split()\n",
    "\n",
    "word_freq = {}\n",
    "for word in allstar_words:\n",
    "    word_freq[word] = word_freq.get(word, 0) + 1\n",
    "\n",
    "word_freq"
   ]
  },
  {
   "cell_type": "markdown",
   "metadata": {},
   "source": [
    "5. Load `Rick Astley - Never Gonna Give You Up Lyrics _ AZLyrics.com.html` and find out the ff (show the code): **10 pts.**"
   ]
  },
  {
   "cell_type": "code",
   "execution_count": 12,
   "metadata": {},
   "outputs": [],
   "source": [
    "file = 'data/Rick Astley - Never Gonna Give You Up Lyrics _ AZLyrics.com.html'\n",
    "soup = BeautifulSoup(open(file))"
   ]
  },
  {
   "cell_type": "code",
   "execution_count": 13,
   "metadata": {},
   "outputs": [
    {
     "data": {
      "text/plain": [
       "[\"We're no strangers to love\", 'You know the rules and so do I', \"A full commitment's what I'm thinking of\", \"You wouldn't get this from any other guy\", \"I just wanna tell you how I'm feeling\", 'Gotta make you understand', 'Never gonna give you up', 'Never gonna let you down', 'Never gonna run around and desert you', 'Never gonna make you cry', 'Never gonna say goodbye', 'Never gonna tell a lie and hurt you', \"We've known each other for so long\", \"Your heart's been aching, but\", \"You're too shy to say it\", \"Inside, we both know what's been going on\", \"We know the game and we're gonna play it\", \"And if you ask me how I'm feeling\", \"Don't tell me you're too blind to see\", 'Never gonna give you up', 'Never gonna let you down', 'Never gonna run around and desert you', 'Never gonna make you cry', 'Never gonna say goodbye', 'Never gonna tell a lie and hurt you', 'Never gonna give you up', 'Never gonna let you down', 'Never gonna run around and desert you', 'Never gonna make you cry', 'Never gonna say goodbye', 'Never gonna tell a lie and hurt you', '(Ooh, give you up)', '(Ooh, give you up)', 'Never gonna give, never gonna give', '(Give you up)', 'Never gonna give, never gonna give', '(Give you up)', \"We've known each other for so long\", \"Your heart's been aching, but\", \"You're too shy to say it\", \"Inside, we both know what's been going on\", \"We know the game and we're gonna play it\", \"I just wanna tell you how I'm feeling\", 'Gotta make you understand', 'Never gonna give you up', 'Never gonna let you down', 'Never gonna run around and desert you', 'Never gonna make you cry', 'Never gonna say goodbye', 'Never gonna tell a lie and hurt you', 'Never gonna give you up', 'Never gonna let you down', 'Never gonna run around and desert you', 'Never gonna make you cry', 'Never gonna say goodbye', 'Never gonna tell a lie and hurt you', 'Never gonna give you up', 'Never gonna let you down', 'Never gonna run around and desert you', 'Never gonna make you cry', 'Never gonna say goodbye', 'Never gonna tell a lie and hurt you']"
      ]
     },
     "execution_count": 13,
     "metadata": {},
     "output_type": "execute_result"
    }
   ],
   "source": [
    "parent_div = soup.find('div', {\"class\": 'col-xs-12 col-lg-8 text-center'})\n",
    "lyrics_div = parent_div.find('div', {\"class\": None})\n",
    "lyrics_raw = lyrics_div.get_text()\n",
    "lyrics = [line for line in lyrics_raw.split(\"\\n\") if line!='']\n",
    "lyrics"
   ]
  },
  {
   "cell_type": "markdown",
   "metadata": {},
   "source": [
    "- How many unique words are there?"
   ]
  },
  {
   "cell_type": "code",
   "execution_count": 14,
   "metadata": {},
   "outputs": [
    {
     "data": {
      "text/plain": [
       "78"
      ]
     },
     "execution_count": 14,
     "metadata": {},
     "output_type": "execute_result"
    }
   ],
   "source": [
    "words = [w.strip(\"(),\").lower() for w in \" \".join(lyrics).split()]\n",
    "pd.Series(words).nunique()"
   ]
  },
  {
   "cell_type": "markdown",
   "metadata": {},
   "source": [
    "- List what will Rick Astley never do?"
   ]
  },
  {
   "cell_type": "code",
   "execution_count": 15,
   "metadata": {},
   "outputs": [
    {
     "name": "stdout",
     "output_type": "stream",
     "text": [
      "Pretty printing has been turned ON\n"
     ]
    }
   ],
   "source": [
    "%pprint"
   ]
  },
  {
   "cell_type": "code",
   "execution_count": 16,
   "metadata": {},
   "outputs": [
    {
     "data": {
      "text/plain": [
       "['Never gonna give you up',\n",
       " 'Never gonna let you down',\n",
       " 'Never gonna run around and desert you',\n",
       " 'Never gonna make you cry',\n",
       " 'Never gonna say goodbye',\n",
       " 'Never gonna tell a lie and hurt you',\n",
       " 'Never gonna give you up',\n",
       " 'Never gonna let you down',\n",
       " 'Never gonna run around and desert you',\n",
       " 'Never gonna make you cry',\n",
       " 'Never gonna say goodbye',\n",
       " 'Never gonna tell a lie and hurt you',\n",
       " 'Never gonna give you up',\n",
       " 'Never gonna let you down',\n",
       " 'Never gonna run around and desert you',\n",
       " 'Never gonna make you cry',\n",
       " 'Never gonna say goodbye',\n",
       " 'Never gonna tell a lie and hurt you',\n",
       " 'Never gonna give, never gonna give',\n",
       " 'Never gonna give, never gonna give',\n",
       " 'Never gonna give you up',\n",
       " 'Never gonna let you down',\n",
       " 'Never gonna run around and desert you',\n",
       " 'Never gonna make you cry',\n",
       " 'Never gonna say goodbye',\n",
       " 'Never gonna tell a lie and hurt you',\n",
       " 'Never gonna give you up',\n",
       " 'Never gonna let you down',\n",
       " 'Never gonna run around and desert you',\n",
       " 'Never gonna make you cry',\n",
       " 'Never gonna say goodbye',\n",
       " 'Never gonna tell a lie and hurt you',\n",
       " 'Never gonna give you up',\n",
       " 'Never gonna let you down',\n",
       " 'Never gonna run around and desert you',\n",
       " 'Never gonna make you cry',\n",
       " 'Never gonna say goodbye',\n",
       " 'Never gonna tell a lie and hurt you']"
      ]
     },
     "execution_count": 16,
     "metadata": {},
     "output_type": "execute_result"
    }
   ],
   "source": [
    "[line for line in lyrics if line.startswith(\"Never gonna\")]"
   ]
  },
  {
   "cell_type": "markdown",
   "metadata": {},
   "source": [
    "- Write a function that lists all the unique words and counts the num of occurences. Output the result as a dictionary similar to **Item 4.**"
   ]
  },
  {
   "cell_type": "code",
   "execution_count": 17,
   "metadata": {},
   "outputs": [],
   "source": [
    "def get_word_frequencies(word_list):\n",
    "    word_freq = {}\n",
    "    for word in word_list:\n",
    "        word_freq[word] = word_freq.get(word, 0) + 1\n",
    "    return word_freq"
   ]
  },
  {
   "cell_type": "code",
   "execution_count": 18,
   "metadata": {},
   "outputs": [
    {
     "data": {
      "text/plain": [
       "{\"we're\": 3,\n",
       " 'no': 1,\n",
       " 'strangers': 1,\n",
       " 'to': 4,\n",
       " 'love': 1,\n",
       " 'you': 41,\n",
       " 'know': 5,\n",
       " 'the': 3,\n",
       " 'rules': 1,\n",
       " 'and': 16,\n",
       " 'so': 3,\n",
       " 'do': 1,\n",
       " 'i': 3,\n",
       " 'a': 7,\n",
       " 'full': 1,\n",
       " \"commitment's\": 1,\n",
       " 'what': 1,\n",
       " \"i'm\": 4,\n",
       " 'thinking': 1,\n",
       " 'of': 1,\n",
       " \"wouldn't\": 1,\n",
       " 'get': 1,\n",
       " 'this': 1,\n",
       " 'from': 1,\n",
       " 'any': 1,\n",
       " 'other': 3,\n",
       " 'guy': 1,\n",
       " 'just': 2,\n",
       " 'wanna': 2,\n",
       " 'tell': 9,\n",
       " 'how': 3,\n",
       " 'feeling': 3,\n",
       " 'gotta': 2,\n",
       " 'make': 8,\n",
       " 'understand': 2,\n",
       " 'never': 40,\n",
       " 'gonna': 42,\n",
       " 'give': 14,\n",
       " 'up': 10,\n",
       " 'let': 6,\n",
       " 'down': 6,\n",
       " 'run': 6,\n",
       " 'around': 6,\n",
       " 'desert': 6,\n",
       " 'cry': 6,\n",
       " 'say': 8,\n",
       " 'goodbye': 6,\n",
       " 'lie': 6,\n",
       " 'hurt': 6,\n",
       " \"we've\": 2,\n",
       " 'known': 2,\n",
       " 'each': 2,\n",
       " 'for': 2,\n",
       " 'long': 2,\n",
       " 'your': 2,\n",
       " \"heart's\": 2,\n",
       " 'been': 4,\n",
       " 'aching': 2,\n",
       " 'but': 2,\n",
       " \"you're\": 3,\n",
       " 'too': 3,\n",
       " 'shy': 2,\n",
       " 'it': 4,\n",
       " 'inside': 2,\n",
       " 'we': 4,\n",
       " 'both': 2,\n",
       " \"what's\": 2,\n",
       " 'going': 2,\n",
       " 'on': 2,\n",
       " 'game': 2,\n",
       " 'play': 2,\n",
       " 'if': 1,\n",
       " 'ask': 1,\n",
       " 'me': 2,\n",
       " \"don't\": 1,\n",
       " 'blind': 1,\n",
       " 'see': 1,\n",
       " 'ooh': 2}"
      ]
     },
     "execution_count": 18,
     "metadata": {},
     "output_type": "execute_result"
    }
   ],
   "source": [
    "get_word_frequencies(words)"
   ]
  },
  {
   "cell_type": "markdown",
   "metadata": {},
   "source": [
    "- Use the dictionary from above to create a word count histogram."
   ]
  },
  {
   "cell_type": "code",
   "execution_count": 19,
   "metadata": {},
   "outputs": [
    {
     "data": {
      "image/png": "[encoded data removed]",
      "text/plain": [
       "<Figure size 864x576 with 1 Axes>"
      ]
     },
     "metadata": {
      "needs_background": "light"
     },
     "output_type": "display_data"
    }
   ],
   "source": [
    "rick_astley_word_freq = get_word_frequencies(words)\n",
    "sorted_freq = sorted(list(rick_astley_word_freq.items()), key=lambda x: x[1], reverse=True)\n",
    "words, freqs = zip(*sorted_freq)\n",
    "fig, ax = plt.subplots(figsize=(12, 8))\n",
    "plt.bar(words[:20], freqs[:20])\n",
    "plt.tight_layout()\n",
    "plt.show()"
   ]
  },
  {
   "cell_type": "markdown",
   "metadata": {},
   "source": [
    "### Bonus:\n",
    "Compare any non-English song (as long as lyrics are Romanized ) and a contemporary one in English, and create word frequency histograms of both. Compare and discuss any interesting findings or insights. **5 pts.**"
   ]
  },
  {
   "cell_type": "markdown",
   "metadata": {},
   "source": [
    "Deadline **Feb 25 11:59PM**. Submission link to be posted in Moodle. \n",
    "Submit the .ipynb file only with name <SURNAME>_<ID NUMBER>.ipynb. \n",
    "    \n",
    "Sample: **\"BAUTISTA_110464.ipynb\"**"
   ]
  }
 ],
 "metadata": {
  "kernelspec": {
   "display_name": "Python 3",
   "language": "python",
   "name": "python3"
  },
  "language_info": {
   "codemirror_mode": {
    "name": "ipython",
    "version": 3
   },
   "file_extension": ".py",
   "mimetype": "text/x-python",
   "name": "python",
   "nbconvert_exporter": "python",
   "pygments_lexer": "ipython3",
   "version": "3.8.6"
  }
 },
 "nbformat": 4,
 "nbformat_minor": 4
}
