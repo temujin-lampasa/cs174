{
 "cells": [
  {
   "cell_type": "markdown",
   "metadata": {},
   "source": [
    "# Problem Set 2 CS174\n",
    "---\n",
    "The following problem set will focus on the lessons on Numpy and advanced Python functions. Answer the following guide questions by writing functions or code in cells that accomplish the requirements."
   ]
  },
  {
   "cell_type": "code",
   "execution_count": 8,
   "metadata": {},
   "outputs": [],
   "source": [
    "import re\n",
    "import nltk\n",
    "import numpy as np\n",
    "from string import punctuation\n",
    "import matplotlib.pyplot as plt"
   ]
  },
  {
   "cell_type": "code",
   "execution_count": 19,
   "metadata": {},
   "outputs": [
    {
     "name": "stderr",
     "output_type": "stream",
     "text": [
      "[nltk_data] Downloading package stopwords to /Users/TL/nltk_data...\n",
      "[nltk_data]   Package stopwords is already up-to-date!\n",
      "[nltk_data] Downloading package wordnet to /Users/TL/nltk_data...\n",
      "[nltk_data]   Package wordnet is already up-to-date!\n",
      "[nltk_data] Downloading package averaged_perceptron_tagger to\n",
      "[nltk_data]     /Users/TL/nltk_data...\n",
      "[nltk_data]   Package averaged_perceptron_tagger is already up-to-\n",
      "[nltk_data]       date!\n"
     ]
    },
    {
     "data": {
      "text/plain": [
       "True"
      ]
     },
     "execution_count": 19,
     "metadata": {},
     "output_type": "execute_result"
    }
   ],
   "source": [
    "nltk.download('stopwords')\n",
    "nltk.download('wordnet')\n",
    "nltk.download('averaged_perceptron_tagger')"
   ]
  },
  {
   "cell_type": "code",
   "execution_count": 18,
   "metadata": {},
   "outputs": [
    {
     "data": {
      "text/plain": [
       "<function nltk.tag.pos_tag(tokens, tagset=None, lang='eng')>"
      ]
     },
     "execution_count": 18,
     "metadata": {},
     "output_type": "execute_result"
    }
   ],
   "source": [
    "nltk.pos_tag"
   ]
  },
  {
   "cell_type": "markdown",
   "metadata": {},
   "source": [
    "#### 1. Create a function that takes in 3 parameters (integer n, integer a, integer b), and generates an nxn numpy matrix with random values from the range a to b inclusive. **2 pts.**"
   ]
  },
  {
   "cell_type": "code",
   "execution_count": 7,
   "metadata": {},
   "outputs": [],
   "source": [
    "def generate_matrix(n, a, b):\n",
    "    return np.random.randint(low=a, high=b+1, size=(n, n))"
   ]
  },
  {
   "cell_type": "code",
   "execution_count": 8,
   "metadata": {},
   "outputs": [
    {
     "data": {
      "text/plain": [
       "array([[10,  5,  7,  3,  8],\n",
       "       [ 4,  5,  1,  5,  6],\n",
       "       [ 7,  2,  4,  6,  9],\n",
       "       [10, 10,  7,  6, 10],\n",
       "       [ 3,  3,  3,  8,  9]])"
      ]
     },
     "execution_count": 8,
     "metadata": {},
     "output_type": "execute_result"
    }
   ],
   "source": [
    "generate_matrix(5, 1, 10)"
   ]
  },
  {
   "cell_type": "markdown",
   "metadata": {},
   "source": [
    "#### 2. Present a count plot of the top 20 occurring words in **data/networks.txt**. Use the stopword file **data/stop.txt** to filter out the stopwords **2 pts.**"
   ]
  },
  {
   "cell_type": "markdown",
   "metadata": {},
   "source": [
    "#### Load the files:"
   ]
  },
  {
   "cell_type": "code",
   "execution_count": 9,
   "metadata": {},
   "outputs": [],
   "source": [
    "with open(\"data/networks.txt\") as f:\n",
    "    [corpus] = f.readlines()\n",
    "\n",
    "with open(\"data/stop.txt\") as f:\n",
    "    stop = set(line.strip(punctuation + \",\\n\") for line in f)"
   ]
  },
  {
   "cell_type": "markdown",
   "metadata": {},
   "source": [
    "##### Tokenize, then remove stopwords and punctuation:"
   ]
  },
  {
   "cell_type": "code",
   "execution_count": 10,
   "metadata": {},
   "outputs": [],
   "source": [
    "tokens = nltk.word_tokenize(corpus.lower())\n",
    "tokens = [token for token in tokens if (token not in stop and token not in punctuation)]"
   ]
  },
  {
   "cell_type": "markdown",
   "metadata": {},
   "source": [
    "##### Get top 20 words in ascending order:"
   ]
  },
  {
   "cell_type": "code",
   "execution_count": 11,
   "metadata": {},
   "outputs": [],
   "source": [
    "word_freq = {}\n",
    "for word in tokens:\n",
    "    word_freq[word] = word_freq.get(word, 0) + 1\n",
    "top_20_asc = sorted(word_freq.items(), key=lambda x: x[1])[-20:]"
   ]
  },
  {
   "cell_type": "markdown",
   "metadata": {},
   "source": [
    "##### Create the bar plot:"
   ]
  },
  {
   "cell_type": "code",
   "execution_count": 12,
   "metadata": {},
   "outputs": [
    {
     "data": {
      "image/png": "[encoded data removed]",
      "text/plain": [
       "<Figure size 640x960 with 1 Axes>"
      ]
     },
     "metadata": {},
     "output_type": "display_data"
    }
   ],
   "source": [
    "keys, values = zip(*top_20_asc)\n",
    "plt.style.use('ggplot')\n",
    "fig, ax = plt.subplots(figsize=(8, 12), dpi=80)\n",
    "ax.barh(keys, values, color='g')\n",
    "plt.show()"
   ]
  },
  {
   "cell_type": "markdown",
   "metadata": {},
   "source": [
    "#### 3. Using **data/ateneo.txt** and **data/tl-en.txt**, convert the phrases into straight english phrases. Leave words with no translation be. **6 pts.**"
   ]
  },
  {
   "cell_type": "markdown",
   "metadata": {},
   "source": [
    "##### Load the files:"
   ]
  },
  {
   "cell_type": "code",
   "execution_count": 14,
   "metadata": {},
   "outputs": [],
   "source": [
    "with open(\"data/ateneo.txt\") as f:\n",
    "    ateneo_text = f.readlines()\n",
    "\n",
    "with open(\"data/tl-en.txt\") as f:\n",
    "    fil_to_eng = {}\n",
    "    for line in f:\n",
    "        fil, eng = line.strip().split()\n",
    "        fil_to_eng[fil] = eng"
   ]
  },
  {
   "cell_type": "markdown",
   "metadata": {},
   "source": [
    "##### Define a function for translating words:"
   ]
  },
  {
   "cell_type": "code",
   "execution_count": 156,
   "metadata": {},
   "outputs": [],
   "source": [
    "def translate(string, dictionary):\n",
    "    \"\"\"Translate a string with the given dictionary.\n",
    "    Steps:\n",
    "    1. Group each space-separated substring into 3 parts:\n",
    "        - Left punctuation\n",
    "        - Word\n",
    "        - Right punctuation\n",
    "    2. \"Un-capitalize\" each word and translate with dictionary.\n",
    "    3. Convert back to original capitalization and put back punctuations.\n",
    "    \"\"\"\n",
    "    \n",
    "    translated_text = []\n",
    "    for substr in string.split():\n",
    "        mo = re.search(r\"([^a-zA-Z0-9]*)([\\w'-.]*)([^a-zA-Z0-9]*)\", substr)\n",
    "        left_punc, word, right_punc = mo.groups()\n",
    "        was_capitalized = False\n",
    "        if word[0].isupper():\n",
    "            word = word[0].lower() + word[1:]\n",
    "            was_capitalized = True\n",
    "        \n",
    "        translated_word = dictionary.get(word, word)\n",
    "\n",
    "        if was_capitalized:\n",
    "            translated_word = translated_word[0].upper() + translated_word[1:]\n",
    "        translated_text.append(left_punc + translated_word + right_punc)\n",
    "    return ' '.join(translated_text)"
   ]
  },
  {
   "cell_type": "markdown",
   "metadata": {},
   "source": [
    "##### Translate:"
   ]
  },
  {
   "cell_type": "code",
   "execution_count": 16,
   "metadata": {},
   "outputs": [
    {
     "name": "stdout",
     "output_type": "stream",
     "text": [
      "original: \"Manong, para lang d'yan sa may side.\"\n",
      "translated: \"Manong, to only d'yan sa have side.\"\n",
      "--------------------------------------------------\n",
      "original: \"Mej hassle naman this rain.\"\n",
      "translated: \"Mej hassle naman this rain.\"\n",
      "--------------------------------------------------\n",
      "original: \"Ano, bro? Katip later? G?\"\n",
      "translated: \"What, bro? Katip later? G?\"\n",
      "--------------------------------------------------\n",
      "original: \"Wait, I'm like gonna dinner lang with the fambam.\"\n",
      "translated: \"Wait, I'm like gonna dinner only with the fambam.\"\n",
      "--------------------------------------------------\n",
      "original: \"Which car am I gonna take today kaya?\"\n",
      "translated: \"Which car am I gonna take today so?\"\n",
      "--------------------------------------------------\n",
      "original: \"Don't make tusok sa fishball muna, it's not lutong yet.\"\n",
      "translated: \"Don't make stitch sa fishball first, it's not cuisine yet.\"\n",
      "--------------------------------------------------\n",
      "original: \"Kuya magkano po yung neon balls?\"\n",
      "translated: \"Brother much po yung neon balls?\"\n",
      "--------------------------------------------------\n",
      "original: \"Pweds ka ba later?\"\n",
      "translated: \"Pweds ka ba later?\"\n",
      "--------------------------------------------------\n",
      "original: \"Ugh, there's no parking space pa. Eh, I'm late na nga.\"\n",
      "translated: \"Ugh, there's no parking space pa. Eh, I'm late na nga.\"\n",
      "--------------------------------------------------\n",
      "original: \"It's like, super intense talaga. As in grabe.\"\n",
      "translated: \"It's like, super intense really. As in extreme.\"\n",
      "--------------------------------------------------\n",
      "original: \"I'll make paalam pa. You know naman my dad is strict, eh.\"\n",
      "translated: \"I'll make goodbye pa. You know naman my dad is strict, eh.\"\n",
      "--------------------------------------------------\n",
      "original: \"You're, like, so tagal ha.\"\n",
      "translated: \"You're, like, so duration ha.\"\n",
      "--------------------------------------------------\n",
      "original: \"Make it fast lang ha?\"\n",
      "translated: \"Make it fast only ha?\"\n",
      "--------------------------------------------------\n",
      "original: \"What's wrong with being conyo ba?\"\n",
      "translated: \"What's wrong with being conyo ba?\"\n",
      "--------------------------------------------------\n"
     ]
    }
   ],
   "source": [
    "translated_text = [translate(s, fil_to_eng) for s in ateneo_text]\n",
    "for original, translated in zip(ateneo_text, translated_text):\n",
    "    print(f\"original: {original.rstrip()}\\ntranslated: {translated}\\n\" + '-'*50 )"
   ]
  },
  {
   "cell_type": "markdown",
   "metadata": {},
   "source": [
    "#### 4. Using **data/tl-en.txt**, create a one-to-one English to Filipino translation of your favorite English song. Develop functions to handle pluralities, and multiple entry results. Discuss your code and please put at least 1-liner docs for the functions. **10 pts.**"
   ]
  },
  {
   "cell_type": "markdown",
   "metadata": {},
   "source": [
    "##### Load the dictionary:\n",
    "Keys = words<br>\n",
    "values = list of possible translations\n",
    "\n",
    "By default, we always pick the first entry in the list for the translation."
   ]
  },
  {
   "cell_type": "code",
   "execution_count": 133,
   "metadata": {},
   "outputs": [
    {
     "data": {
      "text/plain": [
       "[('the', ['ang', 'mga', 'yung']),\n",
       " ('this', ['ito', 'nito']),\n",
       " ('on', ['noong']),\n",
       " ('there', ['may']),\n",
       " ('have', ['may']),\n",
       " ('as', ['bilang', 'gaya']),\n",
       " ('number', ['bilang']),\n",
       " ('not', ['hindi', 'hinde']),\n",
       " ('from', ['mula']),\n",
       " ('to', ['para', 'kay'])]"
      ]
     },
     "execution_count": 133,
     "metadata": {},
     "output_type": "execute_result"
    }
   ],
   "source": [
    "eng_to_fil = {}\n",
    "\n",
    "with open(\"data/tl-en.txt\") as f:\n",
    "    for line in f:\n",
    "        fil, eng = line.strip().split()\n",
    "        eng_to_fil[eng] = eng_to_fil.get(eng, []) + [fil]\n",
    "        \n",
    "list(eng_to_fil.items())[:10]"
   ]
  },
  {
   "cell_type": "markdown",
   "metadata": {},
   "source": [
    "##### To handle plural forms:\n",
    "1. Lemmatize first before translation.\n",
    "2. Convert to Filipino plural form."
   ]
  },
  {
   "cell_type": "code",
   "execution_count": 369,
   "metadata": {
    "tags": []
   },
   "outputs": [],
   "source": [
    "from nltk.stem import WordNetLemmatizer\n",
    "\n",
    "\n",
    "def translate(string, dictionary):\n",
    "    \"\"\"Translate a string with the given dictionary.\n",
    "    Steps:\n",
    "    1. Split the string into a lsit of space-separated words and newlines\n",
    "    2. Group each space-separated substring into 3 parts:\n",
    "        - Left punctuation\n",
    "        - Word\n",
    "        - Right punctuation\n",
    "    3. Lemmatize & Un-capitalize each word\n",
    "    4. Translate with dictionary.\n",
    "    5. Revert to original capitalization/plurality\n",
    "    6. Put back punctuation marks\n",
    "    \"\"\"\n",
    "    \n",
    "    lemmatizer = WordNetLemmatizer()\n",
    "    translated_text = []\n",
    "\n",
    "    # Split the string\n",
    "    lines = re.split(\"(\\n+)\", string)\n",
    "    lines = [[w for w in line.split(\" \")] if line!=\"\\n\" else [\"\\n\"] for line in lines]\n",
    "    substrings = [s for line in lines for s in line]\n",
    "\n",
    "    for substr in substrings:\n",
    "        if substr == \"\\n\":\n",
    "            translated_text.append(\"\\n\")\n",
    "            continue\n",
    "            \n",
    "        # Group into 3\n",
    "        mo = re.search(r\"([^a-zA-Z0-9]*)([\\w'-.]*)([^a-zA-Z0-9]*)\", substr)\n",
    "        left_punc, word, right_punc = mo.groups()\n",
    "        was_capitalized = False\n",
    "\n",
    "        if word == \"\":  # If substring is purely special characters\n",
    "            translated_text.append(left_punc + right_punc)\n",
    "            continue\n",
    "        \n",
    "        # Check if capitalized, convert to lowercase\n",
    "        if word[0].isupper() and len(word) > 1:\n",
    "            word = word[0].lower() + word[1:]\n",
    "            was_capitalized = True\n",
    "        elif word[0].isupper() and len(word) == 1:\n",
    "            word = word[0].lower()\n",
    "            was_capitalized = True\n",
    "            \n",
    "        # Check if plural\n",
    "        word, pos = nltk.pos_tag([word])[0]\n",
    "\n",
    "        # Lemmatize\n",
    "        word = lemmatizer.lemmatize(word)       \n",
    "\n",
    "        # Translate: always choose the first entry\n",
    "        if word in dictionary:\n",
    "            translated_word = dictionary[word][0]\n",
    "        else:\n",
    "            translated_word = word\n",
    "        \n",
    "        # If word was a plural noun, convert to plural form\n",
    "        # Don't capitalize\n",
    "        if pos == \"NNS\":\n",
    "            translated_word = f\"{'M' if was_capitalized else 'm'}ga {translated_word}\"\n",
    "            translated_text.append(left_punc + translated_word + right_punc)\n",
    "            continue\n",
    "\n",
    "        # Revert to original capitalization\n",
    "        if was_capitalized and len(word) > 1:\n",
    "            translated_word = translated_word[0].upper() + translated_word[1:]\n",
    "        elif was_capitalized and len(word) == 1:\n",
    "            translated_word = translated_word[0].upper()\n",
    "\n",
    "        translated_text.append(left_punc + translated_word + right_punc)\n",
    "\n",
    "    # Separate with space, except after newlines\n",
    "    translated_text = [s+' ' if not re.search(\"(^\\n+$)\", s) else s for s in translated_text]\n",
    "    return ''.join(translated_text)"
   ]
  },
  {
   "cell_type": "markdown",
   "metadata": {},
   "source": [
    "##### Retrieve song:"
   ]
  },
  {
   "cell_type": "code",
   "execution_count": 364,
   "metadata": {},
   "outputs": [],
   "source": [
    "if , \"dff\"):\n",
    "    print(\"FOUND\")"
   ]
  },
  {
   "cell_type": "code",
   "execution_count": 260,
   "metadata": {},
   "outputs": [],
   "source": [
    "import lyricsgenius as lg"
   ]
  },
  {
   "cell_type": "code",
   "execution_count": 346,
   "metadata": {},
   "outputs": [
    {
     "name": "stdout",
     "output_type": "stream",
     "text": [
      "Searching for \"Raindrops Keep Falling on My Head\"...\n",
      "Done.\n"
     ]
    }
   ],
   "source": [
    "genius = lg.Genius()\n",
    "song = genius.search_song(\"Raindrops Keep Falling on My Head\")"
   ]
  },
  {
   "cell_type": "code",
   "execution_count": 350,
   "metadata": {},
   "outputs": [
    {
     "name": "stdout",
     "output_type": "stream",
     "text": [
      "Raindrops keep falling on my head\n",
      "And just like the guy whose feet are too big for his bed\n",
      "Nothin' seems to fit\n",
      "Those raindrops are falling on my head, they keep falling\n",
      "\n",
      "So I just did me some talkin' to the sun\n",
      "And I said I didn't like the way he got things done\n",
      "Sleepin' on the job\n",
      "Those raindrops are falling on my head, they keep falling\n",
      "\n",
      "But there's one thing I know\n",
      "The blues they send to meet me won't defeat me\n",
      "It won't be long till happiness steps up to greet me\n",
      "\n",
      "Raindrops keep falling on my head\n",
      "But that doesn't mean my eyes will soon be turnin' red\n",
      "Crying's not for me\n",
      "Cause I'm never gonna stop the rain by complainin'\n",
      "Because I'm free\n",
      "Nothing's worrying me\n",
      "\n",
      "It won't be long till happiness steps up to greet me\n",
      "\n",
      "Raindrops keep falling on my head\n",
      "But that doesn't mean my eyes will soon be turnin' red\n",
      "Crying's not for me\n",
      "Cause I'm never gonna stop the rain by complainin'\n",
      "Because I'm free\n",
      "Nothing's worrying me\n"
     ]
    }
   ],
   "source": [
    "# Get rid of unicode characters\n",
    "song.lyrics = re.sub(r'[^\\x00-\\xFF]',' ', song.lyrics)\n",
    "print(song.lyrics)"
   ]
  },
  {
   "cell_type": "markdown",
   "metadata": {},
   "source": [
    "##### Translate the song:"
   ]
  },
  {
   "cell_type": "code",
   "execution_count": 371,
   "metadata": {},
   "outputs": [
    {
     "name": "stdout",
     "output_type": "stream",
     "text": [
      "Mga raindrop panatilihin bumabagsak noong my ulo \n",
      "And basta parang ang guy kaninong mga paa are rin malaking for kanyang kama \n",
      "Nothin' anyong para magkasya \n",
      "Those mga raindrop are bumabagsak noong my head, sila panatilihin bumabagsak \n",
      "\n",
      "Kaya I basta did me ilang talkin' para ang araw \n",
      "And I sinabi I didn't parang ang paraan siya nakuha mga bagay done \n",
      "Sleepin' noong ang trabaho \n",
      "Those mga raindrop are bumabagsak noong my head, sila panatilihin bumabagsak \n",
      "\n",
      "Ngunit there's isa bagay I kilala \n",
      "Ang mga blue sila magpadala para kilalanin me won't pagkatalo me \n",
      "It won't maging haba till saya mga hakbang pataas para mabati me \n",
      "\n",
      "Mga raindrop panatilihin bumabagsak noong my ulo \n",
      "Ngunit yan doesn't mean my mga mata will nagtagal maging turnin' red \n",
      "Crying's hindi for me \n",
      "Sanhi I'm never makapag tumigil ang ulan by complainin' \n",
      "Dahil I'm free \n",
      "Nothing's inaalala me \n",
      "\n",
      "It won't maging haba till saya mga hakbang pataas para mabati me \n",
      "\n",
      "Mga raindrop panatilihin bumabagsak noong my ulo \n",
      "Ngunit yan doesn't mean my mga mata will nagtagal maging turnin' red \n",
      "Crying's hindi for me \n",
      "Sanhi I'm never makapag tumigil ang ulan by complainin' \n",
      "Dahil I'm free \n",
      "Nothing's inaalala me \n"
     ]
    }
   ],
   "source": [
    "translated_lyrics = translate(song.lyrics, eng_to_fil)\n",
    "print(translated_lyrics)"
   ]
  },
  {
   "cell_type": "markdown",
   "metadata": {},
   "source": [
    "### Bonus:\n",
    "Repeat #4 but do a Filipino to English translation of your favorite Filipno song. Same specs apply. **5 pts.**"
   ]
  },
  {
   "cell_type": "markdown",
   "metadata": {},
   "source": [
    "Deadline **Feb 20 11:59PM**. Submission link to be posted in Moodle. \n",
    "Submit the .ipynb file only with name <SURNAME>_<ID NUMBER>.ipynb. \n",
    "    \n",
    "Sample: **\"BAUTISTA_110464.ipynb\"**"
   ]
  },
  {
   "cell_type": "code",
   "execution_count": null,
   "metadata": {},
   "outputs": [],
   "source": []
  }
 ],
 "metadata": {
  "kernelspec": {
   "display_name": "Python 3",
   "language": "python",
   "name": "python3"
  },
  "language_info": {
   "codemirror_mode": {
    "name": "ipython",
    "version": 3
   },
   "file_extension": ".py",
   "mimetype": "text/x-python",
   "name": "python",
   "nbconvert_exporter": "python",
   "pygments_lexer": "ipython3",
   "version": "3.8.6"
  }
 },
 "nbformat": 4,
 "nbformat_minor": 4
}
